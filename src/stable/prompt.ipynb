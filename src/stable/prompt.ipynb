{
 "cells": [
  {
   "cell_type": "code",
   "execution_count": 15,
   "metadata": {},
   "outputs": [],
   "source": [
    "import ollama\n",
    "from tqdm import tqdm\n",
    "import random\n",
    "import json "
   ]
  },
  {
   "cell_type": "code",
   "execution_count": 16,
   "metadata": {},
   "outputs": [],
   "source": [
    "# Spaces \n",
    "interior_spaces = {\n",
    "    \"Residential\": {\n",
    "        \"core spaces\": [\n",
    "            \"living room\", \"kitchen\", \"dining room\", \"bedroom\", \"bathroom\"\n",
    "        ],\n",
    "        \"outdoor/extended spaces\": [\n",
    "            \"rooftop terrace\", \"balcony\", \"patio\", \"garden room\"\n",
    "        ],\n",
    "        \"other rooms\": [\n",
    "            \"guest room\", \"nursery\", \"mudroom\", \"laundry room\", \"home office\",\n",
    "            \"sunroom\", \"home gym\", \"home cinema\", \"walk-in closet\",\n",
    "            \"garage\", \"home workshop\", \"wine cellar\", \"home bar\", \"home library\"\n",
    "        ]\n",
    "    },\n",
    "    \n",
    "    \"Main Spaces\": {\n",
    "    \"Commercial\": [\n",
    "        \"office\", \"coworking space\", \"lobby\", \"conference room\", \"reception desk area\",\n",
    "        \"bank interior\", \"call center\", \"showroom\", \"retail store\", \"tech lab\"\n",
    "    ],\n",
    "    \"Institutional\": [\n",
    "        \"hospital\", \"clinic\", \"school classroom\", \"university lounge\", \"library reading room\",\n",
    "        \"lecture hall\", \"principals office\", \"science lab\", \"student dormitory\", \"kindergarten room\", \"museum gallery\"\n",
    "    ],\n",
    "    \"Public Spaces\": [\n",
    "        \"cafe\", \"restaurant\", \"airport lounge\", \"public library\", \"food court\", \n",
    "        \"community center\", \"exhibition booth\", \"waiting room\", \"rooftop bar\",\n",
    "        \"cinema lobby\", \"amusement park interior\", \"shopping mall atrium\", \"stadium common area\",\n",
    "        \"theater interior\", \"concert hall lobby\", \"gym\"\n",
    "    ],\n",
    "    },\n",
    "    \"Other Spaces\": {\n",
    "    \"Hospitality\": [\n",
    "        \"hotel lobby\", \"hotel suite\", \"spa\", \"resort bungalow\", \"capsule hotel pod\", \"luxury villa \", \"bed & breakfast room\",\n",
    "        \"glamping tent\", \"mountain cabin\", \"beachfront suite\", \"hostel common area\"\n",
    "    ],\n",
    "    \n",
    "    \"Industrial\": [\n",
    "        \"warehouse\", \"factory break room\", \"makerspace\", \"tech repair lab\",\n",
    "        \"loading dock\",  \"data center\", \"equipment room\"\n",
    "    ],\n",
    "    \"Religious & Spiritual\": [\n",
    "        \"chapel interior\", \"temple prayer room\", \"mosque interior\", \"meditation hall\",\n",
    "    ],\n",
    "    \"Emergency & Services\": [\n",
    "        \"fire station lounge\", \"police lobby\", \"ambulance interior\", \"emergency room\"\n",
    "    ],\n",
    "    \"Transportation\": [\n",
    "        \"subway car interior\", \"airplane cabin\", \"ferry lounge\", \"bus station waiting room\", \"ride-share hub\",\n",
    "        \"train car interior\", \"airport terminal\", \"cargo ship interior\", \"cruise ship cabin\", \"train station interior\"\n",
    "    ],\n",
    "    \"Cultural & Traditional\": [\n",
    "        \"Japanese tea room\", \"Moroccan riad courtyard\", \"hammam interior\", \"Indian haveli hall\", \"Nordic sauna room\",\n",
    "        \"Chinese courtyard house\", \"African mud hut interior\", \"Tibetan monastery room\", \"Native American longhouse\",\n",
    "    ]\n",
    "    }\n",
    "}\n",
    "\n",
    "# Design aspects to mention\n",
    "design_elements = [\n",
    "    \"furniture types and arrangements\",\n",
    "    \"lighting style and intensity\",\n",
    "    \"color schemes\",\n",
    "    \"material finishes\",\n",
    "    \"decor elements\",\n",
    "    \"spatial layout\",\n",
    "    \"architectural features\",\n",
    "    \"ambiance\",\n",
    "    \"seasonal or thematic accents\",\n",
    "    \"functional purpose\",\n",
    "    \"style or theme direction\",\n",
    "    \"user demographic or lifestyle\",\n",
    "    \"geographic or cultural influence\",\n",
    "    \"time of day or lighting context\"\n",
    "]\n",
    "\n",
    "\n"
   ]
  },
  {
   "cell_type": "code",
   "execution_count": 17,
   "metadata": {},
   "outputs": [],
   "source": [
    "def generate_prompt(space):\n",
    "    selected_elements = random.sample(design_elements, k=random.randint(2, 6))\n",
    "    mentions = \", \".join(selected_elements)\n",
    "\n",
    "    prompt = f\"\"\"Your task is to generate a single prompt for image generation. The image must relate to interior design.\n",
    "\n",
    "The space that has to be covered is: {space}\n",
    "\n",
    "What can be mentioned in the prompt: {mentions}.\n",
    "\n",
    "Try to avoid common adjectives and phrases. Instead, focus on specific design elements that can be visually represented.\n",
    "\n",
    "Generate a single prompt. Keep it strictly under 300 characters. Output only the prompt.\n",
    "\"\"\"\n",
    "    return prompt\n"
   ]
  },
  {
   "cell_type": "code",
   "execution_count": 18,
   "metadata": {},
   "outputs": [
    {
     "name": "stderr",
     "output_type": "stream",
     "text": [
      "100%|██████████| 500/500 [1:01:03<00:00,  7.33s/it]\n"
     ]
    }
   ],
   "source": [
    "# residential\n",
    "interior_design_prompts = []\n",
    "for i in tqdm(range(500)):\n",
    "    probs = {\"core spaces\": 0.6, \"outdoor/extended spaces\": 0.1, \"other rooms\": 0.3}\n",
    "    subcategory = random.choices(list(probs.keys()), weights=list(probs.values()))[0]\n",
    "    random_space = random.choice(interior_spaces[\"Residential\"][subcategory])\n",
    "    query = generate_prompt(random_space)\n",
    "    response = ollama.chat(model=\"openhermes\", messages=[{\"role\": \"user\", \"content\": query}])\n",
    "    interior_design_prompts.append(response[\"message\"][\"content\"].replace(\"\\\"\", ''))\n",
    "    \n",
    "\n",
    "json_output = json.dumps(interior_design_prompts, indent=4)\n",
    "with open(\"../data/generated_data/prompts/residential_prompts.json\", \"w\") as f:\n",
    "    f.write(json_output)"
   ]
  },
  {
   "cell_type": "code",
   "execution_count": 19,
   "metadata": {},
   "outputs": [
    {
     "name": "stderr",
     "output_type": "stream",
     "text": [
      "100%|██████████| 500/500 [46:20<00:00,  5.56s/it]\n"
     ]
    }
   ],
   "source": [
    "# Main public spaces\n",
    "interior_design_prompts = []\n",
    "for i in tqdm(range(500)):\n",
    "    subcategory = random.choice(list(interior_spaces[\"Main Spaces\"].keys()))\n",
    "    random_space = random.choice(interior_spaces[\"Main Spaces\"][subcategory])\n",
    "    query = generate_prompt(random_space)\n",
    "    response = ollama.chat(model=\"openhermes\", messages=[{\"role\": \"user\", \"content\": query}])\n",
    "    interior_design_prompts.append(response[\"message\"][\"content\"].replace(\"\\\"\", ''))\n",
    "    \n",
    "json_output = json.dumps(interior_design_prompts, indent=4)\n",
    "with open(\"../data/generated_data/prompts/public_prompts.json\", \"w\") as f:\n",
    "    f.write(json_output)"
   ]
  },
  {
   "cell_type": "code",
   "execution_count": 20,
   "metadata": {},
   "outputs": [
    {
     "name": "stderr",
     "output_type": "stream",
     "text": [
      "100%|██████████| 500/500 [3:41:10<00:00, 26.54s/it]    \n"
     ]
    }
   ],
   "source": [
    "# Other spaces\n",
    "interior_design_prompts = []\n",
    "for i in tqdm(range(500)):\n",
    "    subcategory = random.choice(list(interior_spaces[\"Other Spaces\"].keys()))\n",
    "    random_space = random.choice(interior_spaces[\"Other Spaces\"][subcategory])\n",
    "    query = generate_prompt(random_space)\n",
    "    response = ollama.chat(model=\"openhermes\", messages=[{\"role\": \"user\", \"content\": query}])\n",
    "    interior_design_prompts.append(response[\"message\"][\"content\"].replace(\"\\\"\", ''))\n",
    "    \n",
    "json_output = json.dumps(interior_design_prompts, indent=4)\n",
    "with open(\"../data/generated_data/prompts/other_prompts.json\", \"w\") as f:\n",
    "    f.write(json_output)"
   ]
  }
 ],
 "metadata": {
  "kernelspec": {
   "display_name": ".venv",
   "language": "python",
   "name": "python3"
  },
  "language_info": {
   "codemirror_mode": {
    "name": "ipython",
    "version": 3
   },
   "file_extension": ".py",
   "mimetype": "text/x-python",
   "name": "python",
   "nbconvert_exporter": "python",
   "pygments_lexer": "ipython3",
   "version": "3.12.7"
  }
 },
 "nbformat": 4,
 "nbformat_minor": 2
}
