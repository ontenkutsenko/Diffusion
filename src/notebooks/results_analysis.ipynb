{
 "cells": [
  {
   "cell_type": "code",
   "execution_count": 7,
   "id": "b0c6f4df",
   "metadata": {},
   "outputs": [],
   "source": [
    "import pandas as pd\n",
    "import numpy as np\n"
   ]
  },
  {
   "cell_type": "code",
   "execution_count": 12,
   "id": "33d29429",
   "metadata": {},
   "outputs": [],
   "source": [
    "csv_path = '../data/results/time_key-margin=0_dataset-size=2000.csv'\n",
    "df = pd.read_csv(csv_path)"
   ]
  },
  {
   "cell_type": "code",
   "execution_count": null,
   "id": "28fddff4",
   "metadata": {},
   "outputs": [
    {
     "name": "stdout",
     "output_type": "stream",
     "text": [
      "                                        Configuration  Average Time (ms)  \\\n",
      "0   {'use_pca': True, 'embedding_dim': 2, 'use_pq'...           0.139840   \n",
      "1   {'use_pca': True, 'embedding_dim': 4, 'use_pq'...           0.150583   \n",
      "2   {'use_pca': True, 'embedding_dim': 16, 'use_pq...           0.174443   \n",
      "3   {'use_pca': True, 'embedding_dim': 64, 'use_pq...           0.463271   \n",
      "4   {'use_pca': True, 'embedding_dim': 256, 'use_p...           1.704686   \n",
      "5   {'use_pq': True, 'n_pq_subvectors': 8, 'n_pq_c...           0.251433   \n",
      "6   {'use_pq': True, 'n_pq_subvectors': 16, 'n_pq_...           0.313055   \n",
      "7   {'use_pq': True, 'n_pq_subvectors': 32, 'n_pq_...           0.487338   \n",
      "8   {'use_pq': True, 'n_pq_subvectors': 64, 'n_pq_...           0.830292   \n",
      "9   {'use_pca': True, 'embedding_dim': 64, 'use_pq...           0.455846   \n",
      "10  {'use_pca': True, 'embedding_dim': 64, 'use_pq...           0.485800   \n",
      "11  {'use_pca': True, 'embedding_dim': 64, 'use_pq...           0.742116   \n",
      "12                                          Reference           5.271083   \n",
      "\n",
      "    Std Time (ms)  \n",
      "0        0.025103  \n",
      "1        0.006669  \n",
      "2        0.008501  \n",
      "3        0.032767  \n",
      "4        0.053940  \n",
      "5        0.023623  \n",
      "6        0.007636  \n",
      "7        0.014659  \n",
      "8        0.079014  \n",
      "9        0.023725  \n",
      "10       0.023652  \n",
      "11       0.064940  \n",
      "12       0.092519  \n"
     ]
    }
   ],
   "source": [
    "import ast\n",
    "\n",
    "\n",
    "df['Time (s)'] = df['Time (s)'].apply(ast.literal_eval)\n",
    "df['Average Time (ms)'] = df['Time (s)'].apply(lambda x: np.mean(x) * 1000)\n",
    "df['Std Time (ms)'] = df['Time (s)'].apply(lambda x: np.std(x) * 1000)\n",
    "\n",
    "\n"
   ]
  },
  {
   "cell_type": "code",
   "execution_count": null,
   "id": "7881ded4",
   "metadata": {},
   "outputs": [],
   "source": []
  }
 ],
 "metadata": {
  "kernelspec": {
   "display_name": ".venv",
   "language": "python",
   "name": "python3"
  },
  "language_info": {
   "codemirror_mode": {
    "name": "ipython",
    "version": 3
   },
   "file_extension": ".py",
   "mimetype": "text/x-python",
   "name": "python",
   "nbconvert_exporter": "python",
   "pygments_lexer": "ipython3",
   "version": "3.12.7"
  }
 },
 "nbformat": 4,
 "nbformat_minor": 5
}
