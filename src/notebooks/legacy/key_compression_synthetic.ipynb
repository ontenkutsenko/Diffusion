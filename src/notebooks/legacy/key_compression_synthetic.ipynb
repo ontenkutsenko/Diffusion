{
 "cells": [
  {
   "cell_type": "code",
   "execution_count": 42,
   "id": "61916b94",
   "metadata": {},
   "outputs": [],
   "source": [
    "import numpy as np\n",
    "import faiss\n",
    "from tqdm import tqdm\n",
    "import time"
   ]
  },
  {
   "cell_type": "code",
   "execution_count": 29,
   "id": "d899412a",
   "metadata": {},
   "outputs": [],
   "source": [
    "key_sizes = [1000, 10000, 50000, 100000, 1000000]\n",
    "query_size = 1000\n",
    "num_neighbours = 5"
   ]
  },
  {
   "cell_type": "code",
   "execution_count": 50,
   "id": "d9a46ab0",
   "metadata": {},
   "outputs": [],
   "source": [
    "np.random.seed(0)\n",
    "keys = np.random.standard_normal((key_sizes[0], 4 * 64 * 64)).astype(\n",
    "    np.float16, copy=False\n",
    ")\n",
    "queries = np.random.standard_normal((query_size, 4 * 64 * 64)).astype(\n",
    "    np.float16, copy=False\n",
    ")"
   ]
  },
  {
   "cell_type": "code",
   "execution_count": 51,
   "id": "e09cd5b2",
   "metadata": {},
   "outputs": [
    {
     "name": "stdout",
     "output_type": "stream",
     "text": [
      "Index size: 1000\n"
     ]
    }
   ],
   "source": [
    "index = faiss.IndexFlatL2(4 * 64 * 64)\n",
    "index.add(keys)\n",
    "print(\"Index size:\", index.ntotal)"
   ]
  },
  {
   "cell_type": "code",
   "execution_count": null,
   "id": "244f1dfe",
   "metadata": {},
   "outputs": [
    {
     "name": "stderr",
     "output_type": "stream",
     "text": [
      "100%|██████████| 1000/1000 [00:02<00:00, 356.73it/s]"
     ]
    },
    {
     "name": "stdout",
     "output_type": "stream",
     "text": [
      "Average search time: 0.002718142032623291\n",
      "Reference neighbours: [620 496 663 ... 820 239 200]\n"
     ]
    },
    {
     "name": "stderr",
     "output_type": "stream",
     "text": [
      "\n"
     ]
    }
   ],
   "source": [
    "avg_time = 0\n",
    "reference_negibours = []\n",
    "for query in tqdm(queries):\n",
    "    query_flat = query.flatten().reshape(1, -1)\n",
    "    time_start = time.time()\n",
    "    D, ids = index.search(query_flat, num_neighbours)\n",
    "    nearest_ids = ids[0]\n",
    "    time_end = time.time()\n",
    "    avg_time += (time_end - time_start) / 1000\n",
    "    reference_negibours.append(nearest_ids)\n",
    "print(\"Average search time:\", avg_time)\n",
    "print(\"Reference neighbours:\", np.array(reference_negibours))"
   ]
  },
  {
   "cell_type": "code",
   "execution_count": null,
   "id": "85580b7c",
   "metadata": {},
   "outputs": [],
   "source": [
    "for size in sizes:\n",
    "    keys = np.random.standard_normal((size, 4 * 64 * 64)).astype(np.float16)\n",
    "    print(f\"keys.shape: {keys.shape}\")\n",
    "    print(f\"keys.dtype: {keys.dtype}\")\n",
    "    print(f\"keys.nbytes: {keys.nbytes}\")\n",
    "    print(f\"keys.itemsize: {keys.itemsize}\")\n",
    "    print(f\"keys.nbytes / keys.itemsize: {keys.nbytes / keys.itemsize}\")\n",
    "    print(f\"keys.nbytes / keys.shape[0]: {keys.nbytes / keys.shape[0]}\")\n",
    "    print()"
   ]
  },
  {
   "cell_type": "code",
   "execution_count": null,
   "id": "306b323b",
   "metadata": {},
   "outputs": [],
   "source": []
  }
 ],
 "metadata": {
  "kernelspec": {
   "display_name": ".venv",
   "language": "python",
   "name": "python3"
  },
  "language_info": {
   "codemirror_mode": {
    "name": "ipython",
    "version": 3
   },
   "file_extension": ".py",
   "mimetype": "text/x-python",
   "name": "python",
   "nbconvert_exporter": "python",
   "pygments_lexer": "ipython3",
   "version": "3.12.7"
  }
 },
 "nbformat": 4,
 "nbformat_minor": 5
}
