{
 "cells": [
  {
   "cell_type": "code",
   "execution_count": 1,
   "metadata": {},
   "outputs": [],
   "source": [
    "import numpy as np\n",
    "import json\n",
    "from pycocotools.coco import COCO"
   ]
  },
  {
   "cell_type": "code",
   "execution_count": 2,
   "metadata": {},
   "outputs": [
    {
     "name": "stdout",
     "output_type": "stream",
     "text": [
      "loading annotations into memory...\n",
      "Done (t=4.60s)\n",
      "creating index...\n",
      "index created!\n",
      "loading annotations into memory...\n",
      "Done (t=0.37s)\n",
      "creating index...\n",
      "index created!\n",
      "Saved 10000 image->caption mappings\n",
      "Saved 10000 total captions\n"
     ]
    }
   ],
   "source": [
    "# Load annotations\n",
    "instances_path = '../data/coco_annotations/instances_train2017.json'\n",
    "captions_path = '../data/coco_annotations/captions_train2017.json'\n",
    "\n",
    "coco_instances = COCO(instances_path)\n",
    "coco_captions = COCO(captions_path)\n",
    "\n",
    "# Categories of interest\n",
    "catNms = ['chair', 'couch', 'potted plant', 'bed', 'dining table', 'toilet']\n",
    "cat_ids = coco_instances.getCatIds(catNms=catNms)\n",
    "\n",
    "img_ids = set()\n",
    "for cat_id in cat_ids:\n",
    "    img_ids.update(coco_instances.getImgIds(catIds=[cat_id]))\n",
    "    \n",
    "caption_to_image_id = {}\n",
    "all_captions = []\n",
    "\n",
    "for img_id in img_ids:\n",
    "    ann_ids = coco_captions.getAnnIds(imgIds=[img_id])[0]\n",
    "    ann = coco_captions.loadAnns(ann_ids)[0]\n",
    "    caption = ann['caption']\n",
    "    if caption in caption_to_image_id:\n",
    "        continue\n",
    "    caption_to_image_id[caption] = int(img_id)\n",
    "    all_captions.append(caption)\n",
    "    \n",
    "# 10k images for testing  \n",
    "np.random.seed(42)\n",
    "all_captions = list(np.random.choice(all_captions, size=10000, replace=False))\n",
    "caption_to_image_id = {caption: caption_to_image_id[caption] for caption in all_captions}\n",
    "\n",
    "\n",
    "with open('../data/generated_data/prompts/coco_prompt_to_image_id.json', 'w') as f:\n",
    "    json.dump(caption_to_image_id, f, indent=2)\n",
    "\n",
    "with open('../data/generated_data/prompts/coco_prompts.json', 'w') as f:\n",
    "    json.dump(all_captions, f, indent=2)\n",
    "\n",
    "print(f\"Saved {len(caption_to_image_id)} image->caption mappings\")\n",
    "print(f\"Saved {len(all_captions)} total captions\")\n"
   ]
  },
  {
   "cell_type": "code",
   "execution_count": null,
   "metadata": {},
   "outputs": [],
   "source": []
  }
 ],
 "metadata": {
  "kernelspec": {
   "display_name": "base",
   "language": "python",
   "name": "python3"
  },
  "language_info": {
   "codemirror_mode": {
    "name": "ipython",
    "version": 3
   },
   "file_extension": ".py",
   "mimetype": "text/x-python",
   "name": "python",
   "nbconvert_exporter": "python",
   "pygments_lexer": "ipython3",
   "version": "3.12.2"
  }
 },
 "nbformat": 4,
 "nbformat_minor": 1
}
