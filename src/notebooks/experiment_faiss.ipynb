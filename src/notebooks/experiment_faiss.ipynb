{
 "cells": [
  {
   "cell_type": "code",
   "execution_count": 1,
   "metadata": {},
   "outputs": [],
   "source": [
    "import faiss\n",
    "import numpy as np\n",
    "\n",
    "d = 150000\n",
    "nb = 5000\n",
    "np.random.seed(42)\n",
    "\n",
    "database_vectors = np.random.random((nb, d)).astype(\"float32\")\n",
    "\n",
    "index = faiss.IndexFlatL2(d)\n",
    "index.add(database_vectors)"
   ]
  },
  {
   "cell_type": "code",
   "execution_count": 2,
   "metadata": {},
   "outputs": [
    {
     "name": "stdout",
     "output_type": "stream",
     "text": [
      "0.07915847301483155\n"
     ]
    }
   ],
   "source": [
    "import time\n",
    "\n",
    "times = []\n",
    "for i in range(10):\n",
    "    query_vector = np.random.random((1, d)).astype(\"float32\")\n",
    "    start = time.time()\n",
    "    distances, indices = index.search(query_vector, 5)\n",
    "    end = time.time()\n",
    "    times.append(end - start)\n",
    "\n",
    "print(np.mean(times))"
   ]
  }
 ],
 "metadata": {
  "kernelspec": {
   "display_name": ".venv",
   "language": "python",
   "name": "python3"
  },
  "language_info": {
   "codemirror_mode": {
    "name": "ipython",
    "version": 3
   },
   "file_extension": ".py",
   "mimetype": "text/x-python",
   "name": "python",
   "nbconvert_exporter": "python",
   "pygments_lexer": "ipython3",
   "version": "3.12.7"
  }
 },
 "nbformat": 4,
 "nbformat_minor": 2
}
